{
 "cells": [
  {
   "cell_type": "markdown",
   "metadata": {},
   "source": [
    "# Building a Euribor Libor Dual Curve and Valuing a Swap"
   ]
  },
  {
   "cell_type": "markdown",
   "metadata": {},
   "source": [
    "We build an OIS curve from OIS swaps that include forward starting OIS using MM dates.\n",
    "\n",
    "This follows example mentioned in the blogpost at https://blog.deriscope.com/index.php/en/excel-interest-rate-swap-price-dual-bootstrapping-curve"
   ]
  },
  {
   "cell_type": "code",
   "execution_count": 1,
   "metadata": {},
   "outputs": [],
   "source": [
    "import numpy as np\n",
    "import matplotlib.pyplot as plt"
   ]
  },
  {
   "cell_type": "code",
   "execution_count": 2,
   "metadata": {},
   "outputs": [
    {
     "name": "stdout",
     "output_type": "stream",
     "text": [
      "####################################################################\n",
      "# FINANCEPY BETA Version 0.187 - This build:  02 Dec 2020 at 20:12 #\n",
      "#      This software is distributed FREE & WITHOUT ANY WARRANTY    #\n",
      "# For info and disclaimer - https://github.com/domokane/FinancePy  #\n",
      "#      Send any bug reports or comments to quant@financepy.com     #\n",
      "####################################################################\n",
      "\n"
     ]
    }
   ],
   "source": [
    "from financepy.finutils import *\n",
    "from financepy.products.funding import *"
   ]
  },
  {
   "cell_type": "code",
   "execution_count": 41,
   "metadata": {},
   "outputs": [],
   "source": [
    "setDateFormatType(FinDateFormatTypes.UK_LONG)"
   ]
  },
  {
   "cell_type": "code",
   "execution_count": 42,
   "metadata": {},
   "outputs": [],
   "source": [
    "valuationDate = FinDate(30, 11, 2018)"
   ]
  },
  {
   "cell_type": "markdown",
   "metadata": {},
   "source": [
    "## Define IR Swap"
   ]
  },
  {
   "cell_type": "markdown",
   "metadata": {},
   "source": [
    "Define the swap characteristics"
   ]
  },
  {
   "cell_type": "code",
   "execution_count": 43,
   "metadata": {},
   "outputs": [],
   "source": [
    "startDate = FinDate(27, 12, 2017)\n",
    "maturityDate = FinDate(27, 12, 2067)\n",
    "notional = 10 * ONE_MILLION\n",
    "swapType = FinSwapTypes.RECEIVE"
   ]
  },
  {
   "cell_type": "markdown",
   "metadata": {},
   "source": [
    "Set up the fixed leg"
   ]
  },
  {
   "cell_type": "code",
   "execution_count": 44,
   "metadata": {},
   "outputs": [],
   "source": [
    "fixedRate = 0.0150\n",
    "fixedDCCType = FinDayCountTypes.THIRTY_360_BOND\n",
    "fixedFreqType = FinFrequencyTypes.ANNUAL"
   ]
  },
  {
   "cell_type": "markdown",
   "metadata": {},
   "source": [
    "Set up the floating leg"
   ]
  },
  {
   "cell_type": "code",
   "execution_count": 45,
   "metadata": {},
   "outputs": [],
   "source": [
    "floatSpread = 0.0\n",
    "principal = 0.0\n",
    "floatDCCType = FinDayCountTypes.ACT_360\n",
    "floatFreqType = FinFrequencyTypes.SEMI_ANNUAL"
   ]
  },
  {
   "cell_type": "code",
   "execution_count": 46,
   "metadata": {},
   "outputs": [],
   "source": [
    "offMarketSwap = FinIborSwap(startDate, maturityDate, swapType, \n",
    "                            fixedRate, fixedFreqType, fixedDCCType,\n",
    "                            notional,\n",
    "                            floatSpread, floatFreqType, floatDCCType, \n",
    "                            FinCalendarTypes.TARGET)"
   ]
  },
  {
   "cell_type": "code",
   "execution_count": 47,
   "metadata": {},
   "outputs": [],
   "source": [
    "interpType = FinInterpTypes.LINEAR_ZERO_RATES"
   ]
  },
  {
   "cell_type": "markdown",
   "metadata": {},
   "source": [
    "## Build a USD Libor Single Curve"
   ]
  },
  {
   "cell_type": "code",
   "execution_count": 48,
   "metadata": {},
   "outputs": [],
   "source": [
    "depos = []; fras = []; swaps = []\n",
    "\n",
    "spotDays = 0\n",
    "settlementDate = valuationDate.addWeekDays(spotDays)\n",
    "depoDCCType = FinDayCountTypes.ACT_360\n",
    "depo = FinIborDeposit(settlementDate, \"6M\", -0.2510/100.0, depoDCCType); depos.append(depo)\n",
    "fraDCCType = FinDayCountTypes.ACT_360\n",
    "\n",
    "fra = FinIborFRA(settlementDate.addTenor(\"1M\"), \"6M\", -0.2450/100.0, fraDCCType); fras.append(fra)\n",
    "fra = FinIborFRA(settlementDate.addTenor(\"2M\"), \"6M\", -0.2435/100.0, fraDCCType); fras.append(fra)\n",
    "fra = FinIborFRA(settlementDate.addTenor(\"3M\"), \"6M\", -0.2400/100.0, fraDCCType); fras.append(fra)\n",
    "fra = FinIborFRA(settlementDate.addTenor(\"4M\"), \"6M\", -0.2360/100.0, fraDCCType); fras.append(fra)\n",
    "fra = FinIborFRA(settlementDate.addTenor(\"5M\"), \"6M\", -0.2285/100.0, fraDCCType); fras.append(fra)\n",
    "fra = FinIborFRA(settlementDate.addTenor(\"6M\"), \"6M\", -0.2230/100.0, fraDCCType); fras.append(fra)\n",
    "fra = FinIborFRA(settlementDate.addTenor(\"7M\"), \"6M\", -0.2110/100.0, fraDCCType); fras.append(fra)\n",
    "fra = FinIborFRA(settlementDate.addTenor(\"8M\"), \"6M\", -0.1990/100.0, fraDCCType); fras.append(fra)\n",
    "fra = FinIborFRA(settlementDate.addTenor(\"9M\"), \"6M\", -0.1850/100.0, fraDCCType); fras.append(fra)\n",
    "fra = FinIborFRA(settlementDate.addTenor(\"10M\"), \"6M\", -0.1680/100.0, fraDCCType); fras.append(fra)\n",
    "fra = FinIborFRA(settlementDate.addTenor(\"11M\"), \"6M\", -0.1510/100.0, fraDCCType); fras.append(fra)\n",
    "fra = FinIborFRA(settlementDate.addTenor(\"12M\"), \"6M\", -0.1360/100.0, fraDCCType); fras.append(fra)\n",
    "\n",
    "swapType = FinSwapTypes.PAY\n",
    "fixedDCCType = FinDayCountTypes.THIRTY_360_BOND\n",
    "fixedFreqType = FinFrequencyTypes.ANNUAL\n",
    "\n",
    "swap = FinIborSwap(settlementDate, \"2Y\", swapType, -0.1525/100.0, fixedFreqType, fixedDCCType); swaps.append(swap)\n",
    "swap = FinIborSwap(settlementDate, \"3Y\", swapType, -0.0185/100.0, fixedFreqType, fixedDCCType); swaps.append(swap)\n",
    "swap = FinIborSwap(settlementDate, \"4Y\", swapType, 0.1315/100.0, fixedFreqType, fixedDCCType); swaps.append(swap)\n",
    "swap = FinIborSwap(settlementDate, \"5Y\", swapType, 0.2745/100.0, fixedFreqType, fixedDCCType); swaps.append(swap)\n",
    "swap = FinIborSwap(settlementDate, \"6Y\", swapType, 0.4135/100.0, fixedFreqType, fixedDCCType); swaps.append(swap)\n",
    "swap = FinIborSwap(settlementDate, \"7Y\", swapType, 0.5439/100.0, fixedFreqType, fixedDCCType); swaps.append(swap)\n",
    "swap = FinIborSwap(settlementDate, \"8Y\", swapType, 0.6652/100.0, fixedFreqType, fixedDCCType); swaps.append(swap)\n",
    "swap = FinIborSwap(settlementDate, \"9Y\", swapType, 0.7784/100.0, fixedFreqType, fixedDCCType); swaps.append(swap)\n",
    "swap = FinIborSwap(settlementDate, \"10Y\", swapType, 0.8799/100.0, fixedFreqType, fixedDCCType); swaps.append(swap)\n",
    "swap = FinIborSwap(settlementDate, \"11Y\", swapType, 0.9715/100.0, fixedFreqType, fixedDCCType); swaps.append(swap)\n",
    "swap = FinIborSwap(settlementDate, \"12Y\", swapType, 1.0517/100.0, fixedFreqType, fixedDCCType); swaps.append(swap)\n",
    "swap = FinIborSwap(settlementDate, \"15Y\", swapType, 1.2369/100.0, fixedFreqType, fixedDCCType); swaps.append(swap)\n",
    "swap = FinIborSwap(settlementDate, \"20Y\", swapType, 1.3965/100.0, fixedFreqType, fixedDCCType); swaps.append(swap)\n",
    "swap = FinIborSwap(settlementDate, \"25Y\", swapType, 1.4472/100.0, fixedFreqType, fixedDCCType); swaps.append(swap)\n",
    "swap = FinIborSwap(settlementDate, \"30Y\", swapType, 1.4585/100.0, fixedFreqType, fixedDCCType); swaps.append(swap)\n",
    "swap = FinIborSwap(settlementDate, \"35Y\", swapType, 1.4595/100.0, fixedFreqType, fixedDCCType); swaps.append(swap)\n",
    "swap = FinIborSwap(settlementDate, \"40Y\", swapType, 1.4535/100.0, fixedFreqType, fixedDCCType); swaps.append(swap)\n",
    "swap = FinIborSwap(settlementDate, \"45Y\", swapType, 1.4410/100.0, fixedFreqType, fixedDCCType); swaps.append(swap)\n",
    "swap = FinIborSwap(settlementDate, \"50Y\", swapType, 1.4335/100.0, fixedFreqType, fixedDCCType); swaps.append(swap)\n",
    "\n",
    "iborSingleCurve = FinIborSingleCurve(valuationDate, depos, fras, swaps, interpType)"
   ]
  },
  {
   "cell_type": "code",
   "execution_count": 49,
   "metadata": {},
   "outputs": [],
   "source": [
    "iborDepos = depos.copy()\n",
    "iborFras = fras.copy()\n",
    "iborSwaps = swaps.copy()"
   ]
  },
  {
   "cell_type": "code",
   "execution_count": 50,
   "metadata": {},
   "outputs": [],
   "source": [
    "iborCurve = FinIborSingleCurve(valuationDate, iborDepos, iborFras, iborSwaps, interpType)"
   ]
  },
  {
   "cell_type": "code",
   "execution_count": 51,
   "metadata": {},
   "outputs": [
    {
     "name": "stdout",
     "output_type": "stream",
     "text": [
      "START DATE: 30-NOV-2018\n",
      "MATURITY DATE: 30-NOV-2020\n",
      "COUPON (%): -0.1525\n",
      "FREQUENCY: FinFrequencyTypes.ANNUAL\n",
      "DAY COUNT: FinDayCountTypes.THIRTY_360_BOND\n",
      "PAY_DATE     ACCR_START   ACCR_END     DAYS  YEARFRAC    RATE      PAYMENT       DF          PV        CUM PV\n",
      "02-DEC-2019  30-NOV-2018  02-DEC-2019   362  1.005556  -0.15250     -1533.47  1.00240918     -1537.17     -1537.17\n",
      "30-NOV-2020  02-DEC-2019  30-NOV-2020   358  0.994444  -0.15250     -1516.53  1.00305833     -1521.17     -3058.33\n"
     ]
    }
   ],
   "source": [
    "iborSwaps[0].printFixedLegPV()"
   ]
  },
  {
   "cell_type": "code",
   "execution_count": 52,
   "metadata": {},
   "outputs": [
    {
     "name": "stdout",
     "output_type": "stream",
     "text": [
      "START DATE: 30-NOV-2018\n",
      "MATURITY DATE: 30-NOV-2020\n",
      "SPREAD (BPS): 0.0\n",
      "FREQUENCY: FinFrequencyTypes.QUARTERLY\n",
      "DAY COUNT: FinDayCountTypes.THIRTY_E_360\n",
      "PAY_DATE     ACCR_START   ACCR_END     DAYS  YEARFRAC    IBOR      PAYMENT       DF          PV        CUM PV\n",
      "28-FEB-2019  30-NOV-2018  28-FEB-2019    88  0.244444   -0.25678      -627.69  1.00062809      -628.09      -628.09\n",
      "29-MAY-2019  28-FEB-2019  29-MAY-2019    91  0.252778   -0.24799      -626.86  1.00125574      -627.65     -1255.74\n",
      "29-AUG-2019  29-MAY-2019  29-AUG-2019    90  0.250000   -0.23461      -586.51  1.00184334      -587.60     -1843.34\n",
      "29-NOV-2019  29-AUG-2019  29-NOV-2019    90  0.250000   -0.22069      -551.72  1.00239638      -553.05     -2396.38\n",
      "02-MAR-2020  29-NOV-2019  02-MAR-2020    93  0.258333   -0.15432      -398.65  1.00279615      -399.77     -2796.15\n",
      "01-JUN-2020  02-MAR-2020  01-JUN-2020    89  0.247222   -0.11730      -289.98  1.00308703      -290.88     -3087.03\n",
      "31-AUG-2020  01-JUN-2020  31-AUG-2020    89  0.247222   -0.02066       -51.08  1.00313826       -51.24     -3138.26\n",
      "30-NOV-2020  31-AUG-2020  30-NOV-2020    90  0.250000    0.03188        79.69  1.00305833        79.93     -3058.33\n"
     ]
    }
   ],
   "source": [
    "iborSwaps[0]._floatLeg.printValuation()"
   ]
  },
  {
   "cell_type": "markdown",
   "metadata": {},
   "source": [
    "## Swap Valuation"
   ]
  },
  {
   "cell_type": "code",
   "execution_count": 53,
   "metadata": {},
   "outputs": [],
   "source": [
    "vBloomberg = 388147"
   ]
  },
  {
   "cell_type": "code",
   "execution_count": 54,
   "metadata": {},
   "outputs": [],
   "source": [
    "v1 = offMarketSwap.value(valuationDate, iborCurve, iborCurve, -0.268/100.0)"
   ]
  },
  {
   "cell_type": "code",
   "execution_count": 55,
   "metadata": {},
   "outputs": [
    {
     "name": "stdout",
     "output_type": "stream",
     "text": [
      "Single Curve Value: 381271.36  BBG Value:388147.00\n"
     ]
    }
   ],
   "source": [
    "print(\"Single Curve Value: %9.2f  BBG Value:%9.2f\"% (v1, vBloomberg))"
   ]
  },
  {
   "cell_type": "code",
   "execution_count": 56,
   "metadata": {},
   "outputs": [
    {
     "name": "stdout",
     "output_type": "stream",
     "text": [
      "Error in bps: -6.875643\n"
     ]
    }
   ],
   "source": [
    "print(\"Error in bps: %9.6f\"% ((v1-vBloomberg)/notional*10000))"
   ]
  },
  {
   "cell_type": "markdown",
   "metadata": {},
   "source": [
    "In Bloomberg, this swap has a value of 388,147.49 - why the difference - BBG uses a Dual Curve."
   ]
  },
  {
   "cell_type": "markdown",
   "metadata": {},
   "source": [
    "## Building the Discounting OIS Curve"
   ]
  },
  {
   "cell_type": "markdown",
   "metadata": {},
   "source": [
    "We construct the OIS curve from a series of swaps, some forward starting. The default assumption on the floating leg is annual payments."
   ]
  },
  {
   "cell_type": "code",
   "execution_count": 57,
   "metadata": {},
   "outputs": [],
   "source": [
    "depoDCCType = FinDayCountTypes.ACT_360\n",
    "depos = []\n",
    "\n",
    "spotDays = 0\n",
    "settlementDate = valuationDate.addWeekDays(spotDays)\n",
    "depo = FinIborDeposit(settlementDate, \"1D\", -0.3490/100.0, depoDCCType); depos.append(depo)\n",
    "\n",
    "fras = []\n",
    "\n",
    "swaps = []\n",
    "swapType = FinSwapTypes.PAY\n",
    "fixedDCCType = FinDayCountTypes.ACT_365F\n",
    "fixedFreqType = FinFrequencyTypes.ANNUAL\n",
    "\n",
    "# Standard OIS with standard annual terms\n",
    "swap = FinOIS(settlementDate, \"2W\", swapType, -0.3600/100.0, fixedFreqType, fixedDCCType); swaps.append(swap)\n",
    "swap = FinOIS(settlementDate, \"1M\", swapType, -0.3560/100.0, fixedFreqType, fixedDCCType); swaps.append(swap)\n",
    "swap = FinOIS(settlementDate, \"2M\", swapType, -0.3570/100.0, fixedFreqType, fixedDCCType); swaps.append(swap)\n",
    "swap = FinOIS(settlementDate, \"3M\", swapType, -0.3580/100.0, fixedFreqType, fixedDCCType); swaps.append(swap)\n",
    "swap = FinOIS(settlementDate, \"4M\", swapType, -0.3575/100.0, fixedFreqType, fixedDCCType); swaps.append(swap)\n",
    "swap = FinOIS(settlementDate, \"5M\", swapType, -0.3578/100.0, fixedFreqType, fixedDCCType); swaps.append(swap)\n",
    "swap = FinOIS(settlementDate, \"6M\", swapType, -0.3580/100.0, fixedFreqType, fixedDCCType); swaps.append(swap)\n",
    "swap = FinOIS(settlementDate, \"7M\", swapType, -0.3600/100.0, fixedFreqType, fixedDCCType); swaps.append(swap)\n",
    "swap = FinOIS(settlementDate, \"8M\", swapType, -0.3575/100.0, fixedFreqType, fixedDCCType); swaps.append(swap)\n",
    "swap = FinOIS(settlementDate, \"9M\", swapType, -0.3569/100.0, fixedFreqType, fixedDCCType); swaps.append(swap)\n",
    "swap = FinOIS(settlementDate, \"10M\", swapType, -0.3553/100.0, fixedFreqType, fixedDCCType); swaps.append(swap)\n",
    "swap = FinOIS(settlementDate, \"11M\", swapType, -0.3534/100.0, fixedFreqType, fixedDCCType); swaps.append(swap)\n",
    "swap = FinOIS(settlementDate, \"12M\", swapType, -0.3496/100.0, fixedFreqType, fixedDCCType); swaps.append(swap)\n",
    "swap = FinOIS(settlementDate, \"18M\", swapType, -0.3173/100.0, fixedFreqType, fixedDCCType); swaps.append(swap)\n",
    "\n",
    "swap = FinOIS(settlementDate, \"2Y\", swapType, -0.2671/100.0, fixedFreqType, fixedDCCType); swaps.append(swap)\n",
    "swap = FinOIS(settlementDate, \"30M\", swapType, -0.2070/100.0, fixedFreqType, fixedDCCType); swaps.append(swap)\n",
    "swap = FinOIS(settlementDate, \"3Y\", swapType, -0.1410/100.0, fixedFreqType, fixedDCCType); swaps.append(swap)\n",
    "swap = FinOIS(settlementDate, \"4Y\", swapType, -0.0060/100.0, fixedFreqType, fixedDCCType); swaps.append(swap)\n",
    "swap = FinOIS(settlementDate, \"5Y\", swapType, 0.1285/100.0, fixedFreqType, fixedDCCType); swaps.append(swap)\n",
    "swap = FinOIS(settlementDate, \"6Y\", swapType, 0.2590/100.0, fixedFreqType, fixedDCCType); swaps.append(swap)\n",
    "swap = FinOIS(settlementDate, \"7Y\", swapType, 0.3830/100.0, fixedFreqType, fixedDCCType); swaps.append(swap)\n",
    "swap = FinOIS(settlementDate, \"8Y\", swapType, 0.5020/100.0, fixedFreqType, fixedDCCType); swaps.append(swap)\n",
    "swap = FinOIS(settlementDate, \"9Y\", swapType, 0.6140/100.0, fixedFreqType, fixedDCCType); swaps.append(swap)\n",
    "swap = FinOIS(settlementDate, \"10Y\", swapType, 0.7160/100.0, fixedFreqType, fixedDCCType); swaps.append(swap)\n",
    "swap = FinOIS(settlementDate, \"11Y\", swapType, 0.8070/100.0, fixedFreqType, fixedDCCType); swaps.append(swap)\n",
    "swap = FinOIS(settlementDate, \"12Y\", swapType, 0.8890/100.0, fixedFreqType, fixedDCCType); swaps.append(swap)\n",
    "swap = FinOIS(settlementDate, \"15Y\", swapType, 1.0790/100.0, fixedFreqType, fixedDCCType); swaps.append(swap)\n",
    "swap = FinOIS(settlementDate, \"20Y\", swapType, 1.2460/100.0, fixedFreqType, fixedDCCType); swaps.append(swap)\n",
    "swap = FinOIS(settlementDate, \"25Y\", swapType, 1.3055/100.0, fixedFreqType, fixedDCCType); swaps.append(swap)\n",
    "swap = FinOIS(settlementDate, \"30Y\", swapType, 1.3270/100.0, fixedFreqType, fixedDCCType); swaps.append(swap)\n",
    "swap = FinOIS(settlementDate, \"35Y\", swapType, 1.3315/100.0, fixedFreqType, fixedDCCType); swaps.append(swap)\n",
    "swap = FinOIS(settlementDate, \"40Y\", swapType, 1.3300/100.0, fixedFreqType, fixedDCCType); swaps.append(swap)\n",
    "swap = FinOIS(settlementDate, \"50Y\", swapType, 1.3270/100.0, fixedFreqType, fixedDCCType); swaps.append(swap)\n",
    "\n",
    "oisDepos = depos.copy()\n",
    "oisFras = fras.copy()\n",
    "oisSwaps = swaps.copy()"
   ]
  },
  {
   "cell_type": "code",
   "execution_count": 58,
   "metadata": {},
   "outputs": [],
   "source": [
    "oisCurve = FinOISCurve(valuationDate, oisDepos, oisFras, oisSwaps, interpType)"
   ]
  },
  {
   "cell_type": "code",
   "execution_count": 59,
   "metadata": {},
   "outputs": [
    {
     "data": {
      "text/plain": [
       "array([1.        , 1.00002908, 1.0001381 , 1.00030245, 1.00059699,\n",
       "       1.00088352, 1.00115709, 1.00147258, 1.00175876, 1.00207553,\n",
       "       1.00236606, 1.0026569 , 1.00296799, 1.00322485, 1.00348897,\n",
       "       1.00475563, 1.00537308, 1.00518321, 1.00425241, 1.00024097,\n",
       "       0.99356254, 0.9844542 , 0.97329392, 0.96018927, 0.94550181,\n",
       "       0.92977295, 0.9134757 , 0.89666882, 0.84664609, 0.77285729,\n",
       "       0.71384822, 0.66373016, 0.6201139 , 0.58084365, 0.50997795])"
      ]
     },
     "execution_count": 59,
     "metadata": {},
     "output_type": "execute_result"
    }
   ],
   "source": [
    "oisCurve._dfs"
   ]
  },
  {
   "cell_type": "markdown",
   "metadata": {},
   "source": [
    "## Building the Dual Curve"
   ]
  },
  {
   "cell_type": "code",
   "execution_count": 60,
   "metadata": {},
   "outputs": [],
   "source": [
    "iborSingleCurve = FinIborSingleCurve(valuationDate, iborDepos, iborFras, iborSwaps, interpType)"
   ]
  },
  {
   "cell_type": "code",
   "execution_count": 61,
   "metadata": {},
   "outputs": [],
   "source": [
    "iborDualCurve = FinIborDualCurve(valuationDate, oisCurve, iborDepos, iborFras, iborSwaps, interpType)"
   ]
  },
  {
   "cell_type": "code",
   "execution_count": 62,
   "metadata": {},
   "outputs": [],
   "source": [
    "v2 = offMarketSwap.value(valuationDate, oisCurve, iborDualCurve, -0.268/100.0)"
   ]
  },
  {
   "cell_type": "code",
   "execution_count": 63,
   "metadata": {},
   "outputs": [
    {
     "name": "stdout",
     "output_type": "stream",
     "text": [
      "Two Curve Value: 387290.77  BBG Value:388147.00\n"
     ]
    }
   ],
   "source": [
    "print(\"Two Curve Value: %9.2f  BBG Value:%9.2f\"% (v2, vBloomberg))"
   ]
  },
  {
   "cell_type": "code",
   "execution_count": 64,
   "metadata": {},
   "outputs": [
    {
     "name": "stdout",
     "output_type": "stream",
     "text": [
      "Error in bps: -0.856230\n"
     ]
    }
   ],
   "source": [
    "print(\"Error in bps: %9.6f\"% ((v2-vBloomberg)/notional*10000))"
   ]
  },
  {
   "cell_type": "code",
   "execution_count": 65,
   "metadata": {},
   "outputs": [
    {
     "data": {
      "text/plain": [
       "1.3956719290048503"
      ]
     },
     "execution_count": 65,
     "metadata": {},
     "output_type": "execute_result"
    }
   ],
   "source": [
    "offMarketSwap.swapRate(valuationDate, iborDualCurve )*100"
   ]
  },
  {
   "cell_type": "markdown",
   "metadata": {},
   "source": [
    "## Single vs Dual Curve"
   ]
  },
  {
   "cell_type": "code",
   "execution_count": 66,
   "metadata": {},
   "outputs": [
    {
     "data": {
      "image/png": "[encoded data removed]",
      "text/plain": [
       "<Figure size 864x432 with 1 Axes>"
      ]
     },
     "metadata": {
      "needs_background": "light"
     },
     "output_type": "display_data"
    }
   ],
   "source": [
    "years = np.linspace(9, 24, 100)\n",
    "dates = valuationDate.addYears(years)\n",
    "\n",
    "iborSingleCurveFwds = iborSingleCurve.fwdRate(dates, \"6M\")    \n",
    "iborDualCurveFwds = iborDualCurve.fwdRate(dates, \"6M\")\n",
    "\n",
    "plt.figure(figsize=(12,6))\n",
    "plt.plot(years, iborSingleCurveFwds*100.0, label=\"Euribor Single Curve\")\n",
    "plt.plot(years, iborDualCurveFwds*100.0, label=\"Euribor Dual Curve\")\n",
    "plt.xlabel(\"Years\")\n",
    "plt.ylabel(\"Forward Rate (%)\")\n",
    "plt.legend();"
   ]
  },
  {
   "cell_type": "markdown",
   "metadata": {},
   "source": [
    "I calculate the difference between the two curves."
   ]
  },
  {
   "cell_type": "code",
   "execution_count": 67,
   "metadata": {},
   "outputs": [
    {
     "data": {
      "image/png": "[encoded data removed]",
      "text/plain": [
       "<Figure size 864x432 with 1 Axes>"
      ]
     },
     "metadata": {
      "needs_background": "light"
     },
     "output_type": "display_data"
    }
   ],
   "source": [
    "dayMax = 50*360\n",
    "years = np.linspace(0, dayMax/365, dayMax)\n",
    "dates = valuationDate.addYears(years)\n",
    "\n",
    "liborSingleCurveFwds = iborSingleCurve.fwd(dates)    \n",
    "liborDualCurveFwds = iborDualCurve.fwd(dates)\n",
    "\n",
    "diff = liborSingleCurveFwds - liborDualCurveFwds\n",
    "\n",
    "plt.figure(figsize=(12,6))\n",
    "plt.plot(years, diff*10000.0, label=\"EONIA Dual - Single Curve Fwds\")\n",
    "plt.xlabel(\"Years\")\n",
    "plt.ylabel(\"Forward Rate Difference (bp)\")\n",
    "plt.legend();"
   ]
  },
  {
   "cell_type": "markdown",
   "metadata": {},
   "source": [
    "Copyright (c) Dominic O'Kane 2020"
   ]
  }
 ],
 "metadata": {
  "kernelspec": {
   "display_name": "Python 3",
   "language": "python",
   "name": "python3"
  },
  "language_info": {
   "codemirror_mode": {
    "name": "ipython",
    "version": 3
   },
   "file_extension": ".py",
   "mimetype": "text/x-python",
   "name": "python",
   "nbconvert_exporter": "python",
   "pygments_lexer": "ipython3",
   "version": "3.6.9"
  }
 },
 "nbformat": 4,
 "nbformat_minor": 4
}
