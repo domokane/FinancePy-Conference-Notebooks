{
 "cells": [
  {
   "cell_type": "markdown",
   "metadata": {},
   "source": [
    "# CASE STUDY - CONSTRUCTING AN IBOR CURVE"
   ]
  },
  {
   "cell_type": "markdown",
   "metadata": {},
   "source": [
    "Case study for Hyderabad Conference December 2020"
   ]
  },
  {
   "cell_type": "code",
   "execution_count": 1,
   "metadata": {},
   "outputs": [],
   "source": [
    "import numpy as np\n",
    "import matplotlib.pyplot as plt"
   ]
  },
  {
   "cell_type": "code",
   "execution_count": 2,
   "metadata": {},
   "outputs": [
    {
     "name": "stdout",
     "output_type": "stream",
     "text": [
      "####################################################################\n",
      "# FINANCEPY BETA Version 0.186 - This build:  01 Dec 2020 at 13:21 #\n",
      "#      This software is distributed FREE & WITHOUT ANY WARRANTY    #\n",
      "# For info and disclaimer - https://github.com/domokane/FinancePy  #\n",
      "#      Send any bug reports or comments to quant@financepy.com     #\n",
      "####################################################################\n",
      "\n"
     ]
    }
   ],
   "source": [
    "from financepy.finutils import *\n",
    "from financepy.products.funding import *"
   ]
  },
  {
   "cell_type": "code",
   "execution_count": 3,
   "metadata": {},
   "outputs": [],
   "source": [
    "setDateFormatType(FinDateFormatTypes.UK_LONG)"
   ]
  },
  {
   "cell_type": "code",
   "execution_count": 4,
   "metadata": {},
   "outputs": [],
   "source": [
    "valuationDate = FinDate(30, 11, 2018)"
   ]
  },
  {
   "cell_type": "code",
   "execution_count": 5,
   "metadata": {},
   "outputs": [],
   "source": [
    "interpType = FinInterpTypes.LINEAR_ZERO_RATES"
   ]
  },
  {
   "cell_type": "markdown",
   "metadata": {},
   "source": [
    "## Build a USD Libor Single Curve"
   ]
  },
  {
   "cell_type": "code",
   "execution_count": 6,
   "metadata": {},
   "outputs": [],
   "source": [
    "depos = []; fras = []; swaps = []\n",
    "\n",
    "spotDays = 0\n",
    "settlementDate = valuationDate.addWeekDays(spotDays)\n",
    "depoDCCType = FinDayCountTypes.ACT_360\n",
    "depo = FinIborDeposit(settlementDate, \"6M\", -0.2510/100.0, depoDCCType); depos.append(depo)\n",
    "fraDCCType = FinDayCountTypes.ACT_360\n",
    "\n",
    "fra = FinIborFRA(settlementDate.addTenor(\"1M\"), \"6M\", -0.2450/100.0, fraDCCType); fras.append(fra)\n",
    "fra = FinIborFRA(settlementDate.addTenor(\"2M\"), \"6M\", -0.2435/100.0, fraDCCType); fras.append(fra)\n",
    "fra = FinIborFRA(settlementDate.addTenor(\"3M\"), \"6M\", -0.2400/100.0, fraDCCType); fras.append(fra)\n",
    "fra = FinIborFRA(settlementDate.addTenor(\"4M\"), \"6M\", -0.2360/100.0, fraDCCType); fras.append(fra)\n",
    "fra = FinIborFRA(settlementDate.addTenor(\"5M\"), \"6M\", -0.2285/100.0, fraDCCType); fras.append(fra)\n",
    "fra = FinIborFRA(settlementDate.addTenor(\"6M\"), \"6M\", -0.2230/100.0, fraDCCType); fras.append(fra)\n",
    "fra = FinIborFRA(settlementDate.addTenor(\"7M\"), \"6M\", -0.2110/100.0, fraDCCType); fras.append(fra)\n",
    "fra = FinIborFRA(settlementDate.addTenor(\"8M\"), \"6M\", -0.1990/100.0, fraDCCType); fras.append(fra)\n",
    "fra = FinIborFRA(settlementDate.addTenor(\"9M\"), \"6M\", -0.1850/100.0, fraDCCType); fras.append(fra)\n",
    "fra = FinIborFRA(settlementDate.addTenor(\"10M\"), \"6M\", -0.1680/100.0, fraDCCType); fras.append(fra)\n",
    "fra = FinIborFRA(settlementDate.addTenor(\"11M\"), \"6M\", -0.1510/100.0, fraDCCType); fras.append(fra)\n",
    "fra = FinIborFRA(settlementDate.addTenor(\"12M\"), \"6M\", -0.1360/100.0, fraDCCType); fras.append(fra)\n",
    "\n",
    "swapType = FinSwapTypes.PAY\n",
    "fixedDCCType = FinDayCountTypes.THIRTY_360_BOND\n",
    "fixedFreqType = FinFrequencyTypes.ANNUAL\n",
    "\n",
    "swap = FinIborSwap(settlementDate, \"2Y\", swapType, -0.1525/100.0, fixedFreqType, fixedDCCType); swaps.append(swap)\n",
    "swap = FinIborSwap(settlementDate, \"3Y\", swapType, -0.0185/100.0, fixedFreqType, fixedDCCType); swaps.append(swap)\n",
    "swap = FinIborSwap(settlementDate, \"4Y\", swapType, 0.1315/100.0, fixedFreqType, fixedDCCType); swaps.append(swap)\n",
    "swap = FinIborSwap(settlementDate, \"5Y\", swapType, 0.2745/100.0, fixedFreqType, fixedDCCType); swaps.append(swap)\n",
    "swap = FinIborSwap(settlementDate, \"6Y\", swapType, 0.4135/100.0, fixedFreqType, fixedDCCType); swaps.append(swap)\n",
    "swap = FinIborSwap(settlementDate, \"7Y\", swapType, 0.5439/100.0, fixedFreqType, fixedDCCType); swaps.append(swap)\n",
    "swap = FinIborSwap(settlementDate, \"8Y\", swapType, 0.6652/100.0, fixedFreqType, fixedDCCType); swaps.append(swap)\n",
    "swap = FinIborSwap(settlementDate, \"9Y\", swapType, 0.7784/100.0, fixedFreqType, fixedDCCType); swaps.append(swap)\n",
    "swap = FinIborSwap(settlementDate, \"10Y\", swapType, 0.8799/100.0, fixedFreqType, fixedDCCType); swaps.append(swap)\n",
    "swap = FinIborSwap(settlementDate, \"11Y\", swapType, 0.9715/100.0, fixedFreqType, fixedDCCType); swaps.append(swap)\n",
    "swap = FinIborSwap(settlementDate, \"12Y\", swapType, 1.0517/100.0, fixedFreqType, fixedDCCType); swaps.append(swap)\n",
    "swap = FinIborSwap(settlementDate, \"15Y\", swapType, 1.2369/100.0, fixedFreqType, fixedDCCType); swaps.append(swap)\n",
    "swap = FinIborSwap(settlementDate, \"20Y\", swapType, 1.3965/100.0, fixedFreqType, fixedDCCType); swaps.append(swap)\n",
    "swap = FinIborSwap(settlementDate, \"25Y\", swapType, 1.4472/100.0, fixedFreqType, fixedDCCType); swaps.append(swap)\n",
    "swap = FinIborSwap(settlementDate, \"30Y\", swapType, 1.4585/100.0, fixedFreqType, fixedDCCType); swaps.append(swap)\n",
    "swap = FinIborSwap(settlementDate, \"35Y\", swapType, 1.4595/100.0, fixedFreqType, fixedDCCType); swaps.append(swap)\n",
    "swap = FinIborSwap(settlementDate, \"40Y\", swapType, 1.4535/100.0, fixedFreqType, fixedDCCType); swaps.append(swap)\n",
    "swap = FinIborSwap(settlementDate, \"45Y\", swapType, 1.4410/100.0, fixedFreqType, fixedDCCType); swaps.append(swap)\n",
    "swap = FinIborSwap(settlementDate, \"50Y\", swapType, 1.4335/100.0, fixedFreqType, fixedDCCType); swaps.append(swap)\n",
    "\n",
    "iborCurve = FinIborSingleCurve(valuationDate, depos, fras, swaps, interpType)"
   ]
  },
  {
   "cell_type": "markdown",
   "metadata": {},
   "source": [
    "## Examining the Curve"
   ]
  },
  {
   "cell_type": "code",
   "execution_count": 8,
   "metadata": {},
   "outputs": [
    {
     "data": {
      "image/png": "[encoded data removed]",
      "text/plain": [
       "<Figure size 864x432 with 1 Axes>"
      ]
     },
     "metadata": {
      "needs_background": "light"
     },
     "output_type": "display_data"
    }
   ],
   "source": [
    "dayMax = 50*360\n",
    "years = np.linspace(0, dayMax/365, dayMax)\n",
    "dates = valuationDate.addYears(years)\n",
    "liborSingleCurveFwds = iborCurve.fwd(dates)    \n",
    "\n",
    "plt.figure(figsize=(12,6))\n",
    "plt.plot(years, liborSingleCurveFwds*100, label=\"Euribor Single Curve Fwds\")\n",
    "plt.xlabel(\"Years\")\n",
    "plt.ylabel(\"CC Forward Rate (%)\")\n",
    "plt.legend();"
   ]
  },
  {
   "cell_type": "markdown",
   "metadata": {},
   "source": [
    "## Transparency"
   ]
  },
  {
   "cell_type": "code",
   "execution_count": 9,
   "metadata": {},
   "outputs": [
    {
     "name": "stdout",
     "output_type": "stream",
     "text": [
      "START DATE: 30-NOV-2018\n",
      "MATURITY DATE: 30-NOV-2020\n",
      "COUPON (%): -0.1525\n",
      "FREQUENCY: FinFrequencyTypes.ANNUAL\n",
      "DAY COUNT: FinDayCountTypes.THIRTY_360_BOND\n",
      "PAY_DATE     ACCR_START   ACCR_END     DAYS  YEARFRAC    RATE      PAYMENT       DF          PV        CUM PV\n",
      "02-DEC-2019  30-NOV-2018  02-DEC-2019   362  1.005556  -0.15250     -1533.47  1.00240918     -1537.17     -1537.17\n",
      "30-NOV-2020  02-DEC-2019  30-NOV-2020   358  0.994444  -0.15250     -1516.53  1.00305833     -1521.17     -3058.33\n"
     ]
    }
   ],
   "source": [
    "swaps[0].printFixedLegPV()"
   ]
  },
  {
   "cell_type": "code",
   "execution_count": 10,
   "metadata": {},
   "outputs": [
    {
     "name": "stdout",
     "output_type": "stream",
     "text": [
      "START DATE: 30-NOV-2018\n",
      "MATURITY DATE: 30-NOV-2020\n",
      "SPREAD (BPS): 0.0\n",
      "FREQUENCY: FinFrequencyTypes.QUARTERLY\n",
      "DAY COUNT: FinDayCountTypes.THIRTY_E_360\n",
      "PAY_DATE     ACCR_START   ACCR_END     DAYS  YEARFRAC    IBOR      PAYMENT       DF          PV        CUM PV\n",
      "28-FEB-2019  30-NOV-2018  28-FEB-2019    88  0.244444   -0.25678      -627.69  1.00062809      -628.09      -628.09\n",
      "29-MAY-2019  28-FEB-2019  29-MAY-2019    91  0.252778   -0.24799      -626.86  1.00125574      -627.65     -1255.74\n",
      "29-AUG-2019  29-MAY-2019  29-AUG-2019    90  0.250000   -0.23461      -586.51  1.00184334      -587.60     -1843.34\n",
      "29-NOV-2019  29-AUG-2019  29-NOV-2019    90  0.250000   -0.22069      -551.72  1.00239638      -553.05     -2396.38\n",
      "02-MAR-2020  29-NOV-2019  02-MAR-2020    93  0.258333   -0.15432      -398.65  1.00279615      -399.77     -2796.15\n",
      "01-JUN-2020  02-MAR-2020  01-JUN-2020    89  0.247222   -0.11730      -289.98  1.00308703      -290.88     -3087.03\n",
      "31-AUG-2020  01-JUN-2020  31-AUG-2020    89  0.247222   -0.02066       -51.08  1.00313826       -51.24     -3138.26\n",
      "30-NOV-2020  31-AUG-2020  30-NOV-2020    90  0.250000    0.03188        79.69  1.00305833        79.93     -3058.33\n"
     ]
    }
   ],
   "source": [
    "swaps[0]._floatLeg.printValuation()"
   ]
  },
  {
   "cell_type": "markdown",
   "metadata": {},
   "source": [
    "## Swap Valuation"
   ]
  },
  {
   "cell_type": "code",
   "execution_count": 11,
   "metadata": {},
   "outputs": [],
   "source": [
    "startDate = FinDate(27, 12, 2017)\n",
    "maturityDate = FinDate(27, 12, 2067)\n",
    "notional = 10 * ONE_MILLION\n",
    "swapType = FinSwapTypes.RECEIVE"
   ]
  },
  {
   "cell_type": "code",
   "execution_count": 12,
   "metadata": {},
   "outputs": [],
   "source": [
    "fixedRate = 0.0150\n",
    "fixedDCCType = FinDayCountTypes.THIRTY_360_BOND\n",
    "fixedFreqType = FinFrequencyTypes.ANNUAL"
   ]
  },
  {
   "cell_type": "code",
   "execution_count": 13,
   "metadata": {},
   "outputs": [],
   "source": [
    "floatSpread = 0.0\n",
    "principal = 0.0\n",
    "floatDCCType = FinDayCountTypes.ACT_360\n",
    "floatFreqType = FinFrequencyTypes.SEMI_ANNUAL"
   ]
  },
  {
   "cell_type": "code",
   "execution_count": 14,
   "metadata": {},
   "outputs": [],
   "source": [
    "offMarketSwap = FinIborSwap(startDate, maturityDate, swapType, \n",
    "                            fixedRate, fixedFreqType, fixedDCCType,\n",
    "                            notional,\n",
    "                            floatSpread, floatFreqType, floatDCCType, \n",
    "                            FinCalendarTypes.TARGET)"
   ]
  },
  {
   "cell_type": "code",
   "execution_count": 15,
   "metadata": {},
   "outputs": [],
   "source": [
    "interpType = FinInterpTypes.LINEAR_ZERO_RATES"
   ]
  },
  {
   "cell_type": "code",
   "execution_count": 16,
   "metadata": {},
   "outputs": [
    {
     "data": {
      "text/plain": [
       "381271.3571003089"
      ]
     },
     "execution_count": 16,
     "metadata": {},
     "output_type": "execute_result"
    }
   ],
   "source": [
    "offMarketSwap.value(valuationDate, iborCurve, iborCurve, -0.268/100.0)"
   ]
  },
  {
   "cell_type": "markdown",
   "metadata": {},
   "source": [
    "In Bloomberg, this swap has a value of 388,147.49 - why the difference - BBG uses a Dual Curve."
   ]
  },
  {
   "cell_type": "markdown",
   "metadata": {},
   "source": [
    "Copyright (c) Dominic O'Kane 2020"
   ]
  }
 ],
 "metadata": {
  "kernelspec": {
   "display_name": "Python 3",
   "language": "python",
   "name": "python3"
  },
  "language_info": {
   "codemirror_mode": {
    "name": "ipython",
    "version": 3
   },
   "file_extension": ".py",
   "mimetype": "text/x-python",
   "name": "python",
   "nbconvert_exporter": "python",
   "pygments_lexer": "ipython3",
   "version": "3.8.5"
  }
 },
 "nbformat": 4,
 "nbformat_minor": 4
}
