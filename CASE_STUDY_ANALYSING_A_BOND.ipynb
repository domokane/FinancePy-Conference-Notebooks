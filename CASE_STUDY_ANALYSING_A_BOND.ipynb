{
 "cells": [
  {
   "cell_type": "markdown",
   "metadata": {},
   "source": [
    "# CASE STUDY - ANALYSING A BOND"
   ]
  },
  {
   "cell_type": "markdown",
   "metadata": {},
   "source": [
    "Case study for Hyderabad Conference December 2020"
   ]
  },
  {
   "cell_type": "code",
   "execution_count": 1,
   "metadata": {},
   "outputs": [],
   "source": [
    "import numpy as np\n",
    "import matplotlib.pyplot as plt"
   ]
  },
  {
   "cell_type": "code",
   "execution_count": 2,
   "metadata": {
    "scrolled": true
   },
   "outputs": [
    {
     "name": "stdout",
     "output_type": "stream",
     "text": [
      "####################################################################\n",
      "# FINANCEPY BETA Version 0.186 - This build:  01 Dec 2020 at 13:21 #\n",
      "#      This software is distributed FREE & WITHOUT ANY WARRANTY    #\n",
      "# For info and disclaimer - https://github.com/domokane/FinancePy  #\n",
      "#      Send any bug reports or comments to quant@financepy.com     #\n",
      "####################################################################\n",
      "\n"
     ]
    }
   ],
   "source": [
    "from financepy.finutils import *\n",
    "from financepy.products.bonds.FinBond import *"
   ]
  },
  {
   "cell_type": "markdown",
   "metadata": {},
   "source": [
    "# Define the Bond"
   ]
  },
  {
   "cell_type": "code",
   "execution_count": 3,
   "metadata": {},
   "outputs": [],
   "source": [
    "issueDate = FinDate(15, 5, 2020)"
   ]
  },
  {
   "cell_type": "code",
   "execution_count": 4,
   "metadata": {},
   "outputs": [],
   "source": [
    "maturityDate = FinDate(15, 5, 2030)"
   ]
  },
  {
   "cell_type": "code",
   "execution_count": 5,
   "metadata": {},
   "outputs": [],
   "source": [
    "coupon = 0.050 # This means 5%"
   ]
  },
  {
   "cell_type": "code",
   "execution_count": 6,
   "metadata": {},
   "outputs": [],
   "source": [
    "freqType = FinFrequencyTypes.ANNUAL"
   ]
  },
  {
   "cell_type": "code",
   "execution_count": 7,
   "metadata": {},
   "outputs": [],
   "source": [
    "accrualType = FinDayCountTypes.ACT_ACT_ICMA"
   ]
  },
  {
   "cell_type": "code",
   "execution_count": 8,
   "metadata": {},
   "outputs": [],
   "source": [
    "faceAmount = ONE_MILLION"
   ]
  },
  {
   "cell_type": "code",
   "execution_count": 9,
   "metadata": {},
   "outputs": [],
   "source": [
    "bond = FinBond(issueDate, maturityDate, coupon, freqType, accrualType, faceAmount)"
   ]
  },
  {
   "cell_type": "markdown",
   "metadata": {},
   "source": [
    "You can get information about the bond using the print method."
   ]
  },
  {
   "cell_type": "code",
   "execution_count": 10,
   "metadata": {},
   "outputs": [
    {
     "name": "stdout",
     "output_type": "stream",
     "text": [
      "OBJECT TYPE: FinBond\n",
      "ISSUE DATE: 15-MAY-2020\n",
      "MATURITY DATE: 15-MAY-2030\n",
      "COUPON: 0.05\n",
      "FREQUENCY: FinFrequencyTypes.ANNUAL\n",
      "ACCRUAL TYPE: FinDayCountTypes.ACT_ACT_ICMA\n",
      "FACE AMOUNT: 1000000\n"
     ]
    }
   ],
   "source": [
    "print(bond)"
   ]
  },
  {
   "cell_type": "markdown",
   "metadata": {},
   "source": [
    "## Bond Cash Flows"
   ]
  },
  {
   "cell_type": "markdown",
   "metadata": {},
   "source": [
    "We first need to set the settlement date of the bond. "
   ]
  },
  {
   "cell_type": "code",
   "execution_count": 11,
   "metadata": {},
   "outputs": [],
   "source": [
    "settlementDate = FinDate(6, 12, 2020)"
   ]
  },
  {
   "cell_type": "code",
   "execution_count": 12,
   "metadata": {},
   "outputs": [
    {
     "name": "stdout",
     "output_type": "stream",
     "text": [
      " 15-MAY-2021      50000.00 \n",
      " 15-MAY-2022      50000.00 \n",
      " 15-MAY-2023      50000.00 \n",
      " 15-MAY-2024      50000.00 \n",
      " 15-MAY-2025      50000.00 \n",
      " 15-MAY-2026      50000.00 \n",
      " 15-MAY-2027      50000.00 \n",
      " 15-MAY-2028      50000.00 \n",
      " 15-MAY-2029      50000.00 \n",
      " 15-MAY-2030    1050000.00 \n"
     ]
    }
   ],
   "source": [
    "bond.printFlows(settlementDate)"
   ]
  },
  {
   "cell_type": "markdown",
   "metadata": {},
   "source": [
    "The convention is to use these dates for yield calculations even if some fall on weekends."
   ]
  },
  {
   "cell_type": "markdown",
   "metadata": {},
   "source": [
    "## Bond Yield Measures"
   ]
  },
  {
   "cell_type": "code",
   "execution_count": 13,
   "metadata": {},
   "outputs": [],
   "source": [
    "cleanPrice = 102.20"
   ]
  },
  {
   "cell_type": "markdown",
   "metadata": {},
   "source": [
    "Yield to maturity using different conventions"
   ]
  },
  {
   "cell_type": "code",
   "execution_count": 14,
   "metadata": {},
   "outputs": [
    {
     "name": "stdout",
     "output_type": "stream",
     "text": [
      "         FinYTMCalcType.UK_DMO    4.7022358\n",
      "      FinYTMCalcType.US_STREET    4.7022358\n",
      "    FinYTMCalcType.US_TREASURY    4.6986405\n"
     ]
    }
   ],
   "source": [
    "for ytmCalcType in FinYTMCalcType:\n",
    "    y = bond.yieldToMaturity(settlementDate, cleanPrice, ytmCalcType)\n",
    "    print(\"%30s %12.7f\" % (ytmCalcType, y*100))"
   ]
  },
  {
   "cell_type": "markdown",
   "metadata": {},
   "source": [
    "## Vectorizations"
   ]
  },
  {
   "cell_type": "markdown",
   "metadata": {},
   "source": [
    "Some bond function such as yield to maturity support vectorisation"
   ]
  },
  {
   "cell_type": "code",
   "execution_count": 15,
   "metadata": {},
   "outputs": [],
   "source": [
    "cleanPrices = np.linspace(70,150,20)"
   ]
  },
  {
   "cell_type": "code",
   "execution_count": 16,
   "metadata": {},
   "outputs": [],
   "source": [
    "ylds = bond.yieldToMaturity(settlementDate, cleanPrices, FinYTMCalcType.US_TREASURY)"
   ]
  },
  {
   "cell_type": "code",
   "execution_count": 17,
   "metadata": {},
   "outputs": [
    {
     "data": {
      "text/plain": [
       "Text(0, 0.5, 'Clean Prices')"
      ]
     },
     "execution_count": 17,
     "metadata": {},
     "output_type": "execute_result"
    },
    {
     "data": {
      "image/png": "[encoded data removed]",
      "text/plain": [
       "<Figure size 432x288 with 1 Axes>"
      ]
     },
     "metadata": {
      "needs_background": "light"
     },
     "output_type": "display_data"
    }
   ],
   "source": [
    "plt.plot(ylds*100.0, cleanPrices)\n",
    "plt.xlabel(\"Yields\")\n",
    "plt.ylabel(\"Clean Prices\")"
   ]
  },
  {
   "cell_type": "code",
   "execution_count": 18,
   "metadata": {},
   "outputs": [],
   "source": [
    "cleanPrices = bond.cleanPriceFromYTM(settlementDate, ylds, FinYTMCalcType.US_TREASURY)"
   ]
  },
  {
   "cell_type": "markdown",
   "metadata": {},
   "source": [
    "And so we recover the initial input clean prices."
   ]
  },
  {
   "cell_type": "markdown",
   "metadata": {},
   "source": [
    "## Accrued Interest"
   ]
  },
  {
   "cell_type": "markdown",
   "metadata": {},
   "source": [
    "For consistency let's fix the yield calculation convention to be US Treasury"
   ]
  },
  {
   "cell_type": "code",
   "execution_count": 19,
   "metadata": {},
   "outputs": [],
   "source": [
    "yieldConvention = FinYTMCalcType.US_TREASURY"
   ]
  },
  {
   "cell_type": "code",
   "execution_count": 20,
   "metadata": {},
   "outputs": [],
   "source": [
    "ytm = bond.yieldToMaturity(settlementDate, cleanPrice, yieldConvention)"
   ]
  },
  {
   "cell_type": "markdown",
   "metadata": {},
   "source": [
    "Full price is the clean price plus accrued interest"
   ]
  },
  {
   "cell_type": "code",
   "execution_count": 21,
   "metadata": {},
   "outputs": [
    {
     "name": "stdout",
     "output_type": "stream",
     "text": [
      "Full Price =  105.0082192\n"
     ]
    }
   ],
   "source": [
    "print(\"Full Price = %12.7f\" % bond.fullPriceFromYTM(settlementDate, ytm, yieldConvention))"
   ]
  },
  {
   "cell_type": "code",
   "execution_count": 22,
   "metadata": {},
   "outputs": [
    {
     "name": "stdout",
     "output_type": "stream",
     "text": [
      "Clean Price =  102.2000000\n"
     ]
    }
   ],
   "source": [
    "print(\"Clean Price = %12.7f\" % bond.cleanPriceFromYTM(settlementDate, ytm, yieldConvention))"
   ]
  },
  {
   "cell_type": "markdown",
   "metadata": {},
   "source": [
    "Accrued interest is accrued from previous coupon date to settlement date"
   ]
  },
  {
   "cell_type": "code",
   "execution_count": 23,
   "metadata": {},
   "outputs": [
    {
     "name": "stdout",
     "output_type": "stream",
     "text": [
      "Previous coupon date is  15-MAY-2020\n"
     ]
    }
   ],
   "source": [
    "print(\"Previous coupon date is \", bond._pcd)"
   ]
  },
  {
   "cell_type": "code",
   "execution_count": 24,
   "metadata": {},
   "outputs": [
    {
     "name": "stdout",
     "output_type": "stream",
     "text": [
      "Settlement date is  06-DEC-2020\n"
     ]
    }
   ],
   "source": [
    "print(\"Settlement date is \", settlementDate)"
   ]
  },
  {
   "cell_type": "markdown",
   "metadata": {},
   "source": [
    "The amount of accrued interest is "
   ]
  },
  {
   "cell_type": "code",
   "execution_count": 25,
   "metadata": {},
   "outputs": [
    {
     "name": "stdout",
     "output_type": "stream",
     "text": [
      "Accrued =     28082.19\n"
     ]
    }
   ],
   "source": [
    "print(\"Accrued = %12.2f\" % bond._accruedInterest)"
   ]
  },
  {
   "cell_type": "markdown",
   "metadata": {},
   "source": [
    "This is based on the following number of days of accrual"
   ]
  },
  {
   "cell_type": "code",
   "execution_count": 26,
   "metadata": {},
   "outputs": [
    {
     "name": "stdout",
     "output_type": "stream",
     "text": [
      "Accrued Days = 205\n"
     ]
    }
   ],
   "source": [
    "print(\"Accrued Days = %d\" % bond._accruedDays)"
   ]
  },
  {
   "cell_type": "code",
   "execution_count": 27,
   "metadata": {},
   "outputs": [
    {
     "name": "stdout",
     "output_type": "stream",
     "text": [
      "Principal =   1022000.00\n"
     ]
    }
   ],
   "source": [
    "print(\"Principal = %12.2f\" % bond.principal(settlementDate, ytm, yieldConvention))"
   ]
  },
  {
   "cell_type": "markdown",
   "metadata": {},
   "source": [
    "## Bond Risk Measures"
   ]
  },
  {
   "cell_type": "markdown",
   "metadata": {},
   "source": [
    "The bond dollar duration is the actual derivative with respect to the yield. It is the bond price change for a 1bp drop in the yield-to-maturity divided by 1bp."
   ]
  },
  {
   "cell_type": "code",
   "execution_count": 28,
   "metadata": {},
   "outputs": [
    {
     "name": "stdout",
     "output_type": "stream",
     "text": [
      "Dollar Duration =  760.5206740968384\n"
     ]
    }
   ],
   "source": [
    "duration = bond.dollarDuration(settlementDate, ytm, yieldConvention)\n",
    "print(\"Dollar Duration = \", duration)"
   ]
  },
  {
   "cell_type": "markdown",
   "metadata": {},
   "source": [
    "Modified Duration divides the dollar duration by the full price of the bond"
   ]
  },
  {
   "cell_type": "code",
   "execution_count": 29,
   "metadata": {},
   "outputs": [
    {
     "name": "stdout",
     "output_type": "stream",
     "text": [
      "Modified Duration =  7.2424871124333405\n"
     ]
    }
   ],
   "source": [
    "modifiedDuration = bond.modifiedDuration(settlementDate, ytm, yieldConvention)\n",
    "print(\"Modified Duration = \", modifiedDuration)"
   ]
  },
  {
   "cell_type": "markdown",
   "metadata": {},
   "source": [
    "Macauley Duration multiplies the dollar duration by (1+y/f) and divides by the full price"
   ]
  },
  {
   "cell_type": "code",
   "execution_count": 30,
   "metadata": {},
   "outputs": [
    {
     "name": "stdout",
     "output_type": "stream",
     "text": [
      "Macauley Duration =  7.582785541921101\n"
     ]
    }
   ],
   "source": [
    "macauleyDuration = bond.macauleyDuration(settlementDate, ytm, yieldConvention)\n",
    "print(\"Macauley Duration = \", macauleyDuration)"
   ]
  },
  {
   "cell_type": "markdown",
   "metadata": {},
   "source": [
    "Convexity is the second derivative of the bond price with respect to the yield-to-maturity"
   ]
  },
  {
   "cell_type": "code",
   "execution_count": 31,
   "metadata": {},
   "outputs": [
    {
     "name": "stdout",
     "output_type": "stream",
     "text": [
      "Convexity =  0.6712290253904447\n"
     ]
    }
   ],
   "source": [
    "conv = bond.convexityFromYTM(settlementDate, ytm, yieldConvention)\n",
    "print(\"Convexity = \", conv)"
   ]
  },
  {
   "cell_type": "markdown",
   "metadata": {},
   "source": [
    "Copyright (c) 2020 Dominic O'Kane"
   ]
  }
 ],
 "metadata": {
  "kernelspec": {
   "display_name": "Python 3",
   "language": "python",
   "name": "python3"
  },
  "language_info": {
   "codemirror_mode": {
    "name": "ipython",
    "version": 3
   },
   "file_extension": ".py",
   "mimetype": "text/x-python",
   "name": "python",
   "nbconvert_exporter": "python",
   "pygments_lexer": "ipython3",
   "version": "3.8.5"
  }
 },
 "nbformat": 4,
 "nbformat_minor": 2
}
